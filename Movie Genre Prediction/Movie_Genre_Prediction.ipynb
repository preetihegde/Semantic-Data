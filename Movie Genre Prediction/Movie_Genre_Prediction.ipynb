{
  "nbformat": 4,
  "nbformat_minor": 0,
  "metadata": {
    "colab": {
      "provenance": [],
      "gpuType": "T4"
    },
    "kernelspec": {
      "name": "python3",
      "display_name": "Python 3"
    },
    "language_info": {
      "name": "python"
    },
    "accelerator": "GPU"
  },
  "cells": [
    {
      "cell_type": "markdown",
      "source": [
        "1. Importing all Required Libraries"
      ],
      "metadata": {
        "id": "Rfjs8kpFj-9s"
      }
    },
    {
      "cell_type": "code",
      "execution_count": 2,
      "metadata": {
        "colab": {
          "base_uri": "https://localhost:8080/"
        },
        "id": "ZnMRt3f3MnHs",
        "outputId": "0c7feed0-906c-4c53-a351-dd772b9275a9"
      },
      "outputs": [
        {
          "output_type": "stream",
          "name": "stdout",
          "text": [
            "Drive already mounted at /content/drive; to attempt to forcibly remount, call drive.mount(\"/content/drive\", force_remount=True).\n"
          ]
        }
      ],
      "source": [
        "import pandas as pd\n",
        "import nltk\n",
        "from nltk.stem import PorterStemmer\n",
        "from nltk.corpus import stopwords\n",
        "from nltk.tokenize import word_tokenize\n",
        "from nltk.tokenize import word_tokenize\n",
        "from nltk.stem import WordNetLemmatizer\n",
        "from google.colab import drive\n",
        "from sklearn.model_selection import train_test_split\n",
        "from sklearn.feature_extraction.text import TfidfVectorizer\n",
        "from sklearn.naive_bayes import MultinomialNB\n",
        "from sklearn.svm import SVC\n",
        "from sklearn import metrics\n",
        "from sklearn.ensemble import RandomForestClassifier\n",
        "from sklearn.metrics import classification_report, accuracy_score\n",
        "drive.mount('/content/drive')\n"
      ]
    },
    {
      "cell_type": "code",
      "source": [
        "nltk.download('punkt')\n",
        "nltk.download('stopwords')\n",
        "nltk.download('wordnet')"
      ],
      "metadata": {
        "colab": {
          "base_uri": "https://localhost:8080/"
        },
        "id": "hQlpaY5Ifnso",
        "outputId": "ed4f6ec5-053c-4ff1-ec72-053837e18a72"
      },
      "execution_count": 3,
      "outputs": [
        {
          "output_type": "stream",
          "name": "stderr",
          "text": [
            "[nltk_data] Downloading package punkt to /root/nltk_data...\n",
            "[nltk_data]   Package punkt is already up-to-date!\n",
            "[nltk_data] Downloading package stopwords to /root/nltk_data...\n",
            "[nltk_data]   Package stopwords is already up-to-date!\n",
            "[nltk_data] Downloading package wordnet to /root/nltk_data...\n",
            "[nltk_data]   Package wordnet is already up-to-date!\n"
          ]
        },
        {
          "output_type": "execute_result",
          "data": {
            "text/plain": [
              "True"
            ]
          },
          "metadata": {},
          "execution_count": 3
        }
      ]
    },
    {
      "cell_type": "markdown",
      "source": [
        "2. Data Visualization and Exploration"
      ],
      "metadata": {
        "id": "vznk_KurkQ1j"
      }
    },
    {
      "cell_type": "code",
      "source": [
        "import pandas as pd\n",
        "import matplotlib.pyplot as plt\n",
        "\n",
        "# Load data\n",
        "\n",
        "df = pd.read_csv('./drive/MyDrive/Colab Notebooks/train_data.txt', sep=' ::: ', engine='python', names=['ID', 'Title', 'Genre', 'Description'])\n",
        "\n",
        "# Display basic information\n",
        "print(df.info())\n",
        "print(df.head())\n",
        "\n",
        "# Visualization: Genre distribution\n",
        "genre_counts = df['Genre'].value_counts()\n",
        "plt.figure(figsize=(8,4))\n",
        "genre_counts.plot(kind='bar')\n",
        "plt.title('Genre Distribution')\n",
        "plt.xlabel('Genre')\n",
        "plt.ylabel('Count')\n",
        "plt.show()\n",
        "\n"
      ],
      "metadata": {
        "colab": {
          "base_uri": "https://localhost:8080/",
          "height": 923
        },
        "id": "hYrUyqjZShY7",
        "outputId": "b9542914-ecea-4c86-e4fb-b2f38ddf4a34"
      },
      "execution_count": 4,
      "outputs": [
        {
          "output_type": "stream",
          "name": "stdout",
          "text": [
            "<class 'pandas.core.frame.DataFrame'>\n",
            "RangeIndex: 54214 entries, 0 to 54213\n",
            "Data columns (total 4 columns):\n",
            " #   Column       Non-Null Count  Dtype \n",
            "---  ------       --------------  ----- \n",
            " 0   ID           54214 non-null  int64 \n",
            " 1   Title        54214 non-null  object\n",
            " 2   Genre        54214 non-null  object\n",
            " 3   Description  54214 non-null  object\n",
            "dtypes: int64(1), object(3)\n",
            "memory usage: 1.7+ MB\n",
            "None\n",
            "   ID                             Title     Genre  \\\n",
            "0   1      Oscar et la dame rose (2009)     drama   \n",
            "1   2                      Cupid (1997)  thriller   \n",
            "2   3  Young, Wild and Wonderful (1980)     adult   \n",
            "3   4             The Secret Sin (1915)     drama   \n",
            "4   5            The Unrecovered (2007)     drama   \n",
            "\n",
            "                                         Description  \n",
            "0  Listening in to a conversation between his doc...  \n",
            "1  A brother and sister with a past incestuous re...  \n",
            "2  As the bus empties the students for their fiel...  \n",
            "3  To help their unemployed father make ends meet...  \n",
            "4  The film's title refers not only to the un-rec...  \n"
          ]
        },
        {
          "output_type": "display_data",
          "data": {
            "text/plain": [
              "<Figure size 800x400 with 1 Axes>"
            ],
            "image/png": "[encoded data removed]"
          },
          "metadata": {}
        }
      ]
    },
    {
      "cell_type": "markdown",
      "source": [
        "The dataset appears to have a large number of 'drama' movies, followed by 'comedy' and 'short' films, indicating an imbalanced dataset."
      ],
      "metadata": {
        "id": "7klg1LK-kPHz"
      }
    },
    {
      "cell_type": "markdown",
      "source": [
        "3. Data Preprocessing - Remove Stop words, Lemmatization, Stemming"
      ],
      "metadata": {
        "id": "V5TiiasrkXOy"
      }
    },
    {
      "cell_type": "code",
      "source": [
        "#Data Preprocessing\n",
        "\n",
        "#Remove stop words\n",
        "stop_words = set(stopwords.words('english'))\n",
        "\n",
        "# Function to remove stop words\n",
        "def remove_stop_words(text):\n",
        "    tokens = word_tokenize(text)\n",
        "    filtered_tokens = [word for word in tokens if word.lower() not in stop_words]\n",
        "    return ' '.join(filtered_tokens)\n",
        "\n",
        "# Apply stop words removal to the 'description' column\n",
        "df['Description'] = df['Description'].apply(remove_stop_words)\n",
        "\n",
        "print(df.head())"
      ],
      "metadata": {
        "id": "yMwmTjoRUsgC",
        "colab": {
          "base_uri": "https://localhost:8080/"
        },
        "outputId": "4a1858ac-1bd6-4952-83b3-366d269dbc0b"
      },
      "execution_count": 5,
      "outputs": [
        {
          "output_type": "stream",
          "name": "stdout",
          "text": [
            "   ID                             Title     Genre  \\\n",
            "0   1      Oscar et la dame rose (2009)     drama   \n",
            "1   2                      Cupid (1997)  thriller   \n",
            "2   3  Young, Wild and Wonderful (1980)     adult   \n",
            "3   4             The Secret Sin (1915)     drama   \n",
            "4   5            The Unrecovered (2007)     drama   \n",
            "\n",
            "                                         Description  \n",
            "0  Listening conversation doctor parents , 10-yea...  \n",
            "1  brother sister past incestuous relationship cu...  \n",
            "2  bus empties students field trip Museum Natural...  \n",
            "3  help unemployed father make ends meet , Edith ...  \n",
            "4  film 's title refers un-recovered bodies groun...  \n"
          ]
        }
      ]
    },
    {
      "cell_type": "code",
      "source": [
        "# Function to perform lemmatization\n",
        "def perform_lemmatization(text):\n",
        "    tokens = word_tokenize(text)\n",
        "    lemmatizer = WordNetLemmatizer()\n",
        "    lemmatized_tokens = [lemmatizer.lemmatize(token) for token in tokens]\n",
        "    return ' '.join(lemmatized_tokens)\n",
        "\n",
        "# Apply stemming and lemmatization to the 'Plot' column\n",
        "df['Description'] = df['Description'].apply(perform_lemmatization)\n",
        "\n",
        "print(df.head())"
      ],
      "metadata": {
        "colab": {
          "base_uri": "https://localhost:8080/"
        },
        "id": "5uubzCOUgFYg",
        "outputId": "9c2de865-f3ee-4f1c-ffc3-83f422a278c4"
      },
      "execution_count": 6,
      "outputs": [
        {
          "output_type": "stream",
          "name": "stdout",
          "text": [
            "   ID                             Title     Genre  \\\n",
            "0   1      Oscar et la dame rose (2009)     drama   \n",
            "1   2                      Cupid (1997)  thriller   \n",
            "2   3  Young, Wild and Wonderful (1980)     adult   \n",
            "3   4             The Secret Sin (1915)     drama   \n",
            "4   5            The Unrecovered (2007)     drama   \n",
            "\n",
            "                                         Description  \n",
            "0  Listening conversation doctor parent , 10-year...  \n",
            "1  brother sister past incestuous relationship cu...  \n",
            "2  bus empty student field trip Museum Natural Hi...  \n",
            "3  help unemployed father make end meet , Edith t...  \n",
            "4  film 's title refers un-recovered body ground ...  \n"
          ]
        }
      ]
    },
    {
      "cell_type": "markdown",
      "source": [
        "4. Data Splitting and Feature Extraction"
      ],
      "metadata": {
        "id": "5Nris7lxkkT3"
      }
    },
    {
      "cell_type": "code",
      "source": [
        "# Step 2: Data Splitting\n",
        "X_train, X_test, y_train, y_test = train_test_split(df['Description'], df['Genre'], test_size=0.3, random_state=42)\n",
        "\n",
        "# Step 3: Feature Extraction\n",
        "tfidf_vectorizer = TfidfVectorizer(max_features=5000)  # Adjust max_features as needed\n",
        "X_train_tfidf = tfidf_vectorizer.fit_transform(X_train)\n",
        "X_test_tfidf = tfidf_vectorizer.transform(X_test)"
      ],
      "metadata": {
        "id": "tL5y1xNoh80C"
      },
      "execution_count": 7,
      "outputs": []
    },
    {
      "cell_type": "markdown",
      "source": [
        "### Model Traing and Evaluation"
      ],
      "metadata": {
        "id": "h5ZYLZAmkpyl"
      }
    },
    {
      "cell_type": "markdown",
      "source": [
        "1. Random Forest"
      ],
      "metadata": {
        "id": "0O89cBiakwfS"
      }
    },
    {
      "cell_type": "code",
      "source": [
        "# Training using Random Forest\n",
        "rf_classifier = RandomForestClassifier(n_estimators = 100, random_state = 42)\n",
        "rf_classifier.fit(X_train_tfidf, y_train)\n",
        "\n",
        "y_pred_rf = rf_classifier.predict(X_test_tfidf)\n",
        "\n",
        "# Evaluation\n",
        "rf_accuracy = accuracy_score(y_test, y_pred_rf)\n",
        "print(f\"Random Forest Accuracy: {rf_accuracy}\")\n",
        "print(f\"Random Forest Classification Report:\\n{classification_report(y_test, y_pred_rf)}\")"
      ],
      "metadata": {
        "colab": {
          "base_uri": "https://localhost:8080/"
        },
        "id": "DQE97Joe1Ycg",
        "outputId": "13f28fd3-9267-49a3-b6bc-cf792bed007d"
      },
      "execution_count": 9,
      "outputs": [
        {
          "output_type": "stream",
          "name": "stdout",
          "text": [
            "Random Forest Accuracy: 0.4925914540424224\n"
          ]
        },
        {
          "output_type": "stream",
          "name": "stderr",
          "text": [
            "/usr/local/lib/python3.10/dist-packages/sklearn/metrics/_classification.py:1344: UndefinedMetricWarning: Precision and F-score are ill-defined and being set to 0.0 in labels with no predicted samples. Use `zero_division` parameter to control this behavior.\n",
            "  _warn_prf(average, modifier, msg_start, len(result))\n",
            "/usr/local/lib/python3.10/dist-packages/sklearn/metrics/_classification.py:1344: UndefinedMetricWarning: Precision and F-score are ill-defined and being set to 0.0 in labels with no predicted samples. Use `zero_division` parameter to control this behavior.\n",
            "  _warn_prf(average, modifier, msg_start, len(result))\n"
          ]
        },
        {
          "output_type": "stream",
          "name": "stdout",
          "text": [
            "Random Forest Classification Report:\n",
            "              precision    recall  f1-score   support\n",
            "\n",
            "      action       0.00      0.00      0.00       398\n",
            "       adult       0.78      0.12      0.20       156\n",
            "   adventure       0.58      0.10      0.16       220\n",
            "   animation       0.00      0.00      0.00       146\n",
            "   biography       0.00      0.00      0.00        88\n",
            "      comedy       0.49      0.32      0.38      2215\n",
            "       crime       1.00      0.02      0.04       164\n",
            " documentary       0.57      0.85      0.68      3942\n",
            "       drama       0.42      0.83      0.56      4076\n",
            "      family       0.83      0.02      0.04       218\n",
            "     fantasy       0.00      0.00      0.00       103\n",
            "   game-show       0.85      0.42      0.56        55\n",
            "     history       0.00      0.00      0.00        73\n",
            "      horror       0.59      0.18      0.28       626\n",
            "       music       0.69      0.21      0.32       217\n",
            "     musical       1.00      0.01      0.03        77\n",
            "     mystery       0.00      0.00      0.00        90\n",
            "        news       0.00      0.00      0.00        48\n",
            "  reality-tv       0.00      0.00      0.00       269\n",
            "     romance       0.00      0.00      0.00       225\n",
            "      sci-fi       0.70      0.03      0.06       215\n",
            "       short       0.60      0.09      0.16      1577\n",
            "       sport       0.71      0.12      0.21       140\n",
            "   talk-show       1.00      0.04      0.08       122\n",
            "    thriller       0.38      0.01      0.02       463\n",
            "         war       0.00      0.00      0.00        41\n",
            "     western       0.84      0.50      0.63       301\n",
            "\n",
            "    accuracy                           0.49     16265\n",
            "   macro avg       0.45      0.14      0.16     16265\n",
            "weighted avg       0.49      0.49      0.41     16265\n",
            "\n"
          ]
        },
        {
          "output_type": "stream",
          "name": "stderr",
          "text": [
            "/usr/local/lib/python3.10/dist-packages/sklearn/metrics/_classification.py:1344: UndefinedMetricWarning: Precision and F-score are ill-defined and being set to 0.0 in labels with no predicted samples. Use `zero_division` parameter to control this behavior.\n",
            "  _warn_prf(average, modifier, msg_start, len(result))\n"
          ]
        }
      ]
    },
    {
      "cell_type": "markdown",
      "source": [
        "2. Multinomial naive bayes"
      ],
      "metadata": {
        "id": "PeT1mHLMk0Uv"
      }
    },
    {
      "cell_type": "code",
      "source": [
        "# Training using Multinomial naive bayes\n",
        "mnb_classifier = MultinomialNB()\n",
        "mnb_classifier.fit(X_train_tfidf, y_train)\n",
        "\n",
        "mnb_pred = mnb_classifier.predict(X_test_tfidf)\n",
        "\n",
        "# Evaluation\n",
        "mnb_accuracy = accuracy_score(y_test, mnb_pred)\n",
        "print(f\"Random Forest Accuracy: {mnb_accuracy}\")\n",
        "print(f\"Multinomial NaiveBayes Classification Report:\\n{classification_report(y_test, mnb_pred)}\")"
      ],
      "metadata": {
        "colab": {
          "base_uri": "https://localhost:8080/"
        },
        "id": "9-xahJ9u0TQ_",
        "outputId": "b04702d0-b48e-4907-9537-373508cc8fe6"
      },
      "execution_count": 10,
      "outputs": [
        {
          "output_type": "stream",
          "name": "stdout",
          "text": [
            "Random Forest Accuracy: 0.5150322778973255\n"
          ]
        },
        {
          "output_type": "stream",
          "name": "stderr",
          "text": [
            "/usr/local/lib/python3.10/dist-packages/sklearn/metrics/_classification.py:1344: UndefinedMetricWarning: Precision and F-score are ill-defined and being set to 0.0 in labels with no predicted samples. Use `zero_division` parameter to control this behavior.\n",
            "  _warn_prf(average, modifier, msg_start, len(result))\n"
          ]
        },
        {
          "output_type": "stream",
          "name": "stdout",
          "text": [
            "Multinomial NaiveBayes Classification Report:\n",
            "              precision    recall  f1-score   support\n",
            "\n",
            "      action       0.65      0.06      0.11       398\n",
            "       adult       0.67      0.06      0.12       156\n",
            "   adventure       0.48      0.07      0.13       220\n",
            "   animation       0.00      0.00      0.00       146\n",
            "   biography       0.00      0.00      0.00        88\n",
            "      comedy       0.51      0.43      0.47      2215\n",
            "       crime       0.00      0.00      0.00       164\n",
            " documentary       0.56      0.88      0.69      3942\n",
            "       drama       0.45      0.83      0.58      4076\n",
            "      family       0.00      0.00      0.00       218\n",
            "     fantasy       0.00      0.00      0.00       103\n",
            "   game-show       1.00      0.09      0.17        55\n",
            "     history       0.00      0.00      0.00        73\n",
            "      horror       0.73      0.31      0.44       626\n",
            "       music       0.88      0.07      0.13       217\n",
            "     musical       0.00      0.00      0.00        77\n",
            "     mystery       0.00      0.00      0.00        90\n",
            "        news       0.00      0.00      0.00        48\n",
            "  reality-tv       0.50      0.01      0.01       269\n",
            "     romance       0.00      0.00      0.00       225\n",
            "      sci-fi       0.57      0.02      0.04       215\n",
            "       short       0.58      0.09      0.16      1577\n",
            "       sport       0.71      0.07      0.13       140\n",
            "   talk-show       0.00      0.00      0.00       122\n",
            "    thriller       0.20      0.01      0.01       463\n",
            "         war       0.00      0.00      0.00        41\n",
            "     western       0.98      0.57      0.73       301\n",
            "\n",
            "    accuracy                           0.52     16265\n",
            "   macro avg       0.35      0.13      0.14     16265\n",
            "weighted avg       0.49      0.52      0.43     16265\n",
            "\n"
          ]
        },
        {
          "output_type": "stream",
          "name": "stderr",
          "text": [
            "/usr/local/lib/python3.10/dist-packages/sklearn/metrics/_classification.py:1344: UndefinedMetricWarning: Precision and F-score are ill-defined and being set to 0.0 in labels with no predicted samples. Use `zero_division` parameter to control this behavior.\n",
            "  _warn_prf(average, modifier, msg_start, len(result))\n",
            "/usr/local/lib/python3.10/dist-packages/sklearn/metrics/_classification.py:1344: UndefinedMetricWarning: Precision and F-score are ill-defined and being set to 0.0 in labels with no predicted samples. Use `zero_division` parameter to control this behavior.\n",
            "  _warn_prf(average, modifier, msg_start, len(result))\n"
          ]
        }
      ]
    },
    {
      "cell_type": "markdown",
      "source": [
        "3. Support vector machines"
      ],
      "metadata": {
        "id": "LzdJlQWVk5DW"
      }
    },
    {
      "cell_type": "code",
      "source": [
        "# Training using support vector machines\n",
        "svm_classifier = SVC(kernel='sigmoid')\n",
        "svm_classifier.fit(X_train_tfidf, y_train)\n",
        "\n",
        "y_pred_svm = svm_classifier.predict(X_test_tfidf)\n",
        "\n",
        "# Evaluation\n",
        "svm_accuracy = accuracy_score(y_test, y_pred_svm)\n",
        "print(f\"SVM Accuracy: {svm_accuracy}\")\n",
        "print(f\"SVM Classification Report:\\n{classification_report(y_test, y_pred_svm)}\")"
      ],
      "metadata": {
        "id": "J5gYiO100tLj",
        "colab": {
          "base_uri": "https://localhost:8080/"
        },
        "outputId": "2eac543e-9543-4b4a-f33c-26bdaa96c510"
      },
      "execution_count": 11,
      "outputs": [
        {
          "output_type": "stream",
          "name": "stdout",
          "text": [
            "SVM Accuracy: 0.5825391945896096\n"
          ]
        },
        {
          "output_type": "stream",
          "name": "stderr",
          "text": [
            "/usr/local/lib/python3.10/dist-packages/sklearn/metrics/_classification.py:1344: UndefinedMetricWarning: Precision and F-score are ill-defined and being set to 0.0 in labels with no predicted samples. Use `zero_division` parameter to control this behavior.\n",
            "  _warn_prf(average, modifier, msg_start, len(result))\n",
            "/usr/local/lib/python3.10/dist-packages/sklearn/metrics/_classification.py:1344: UndefinedMetricWarning: Precision and F-score are ill-defined and being set to 0.0 in labels with no predicted samples. Use `zero_division` parameter to control this behavior.\n",
            "  _warn_prf(average, modifier, msg_start, len(result))\n"
          ]
        },
        {
          "output_type": "stream",
          "name": "stdout",
          "text": [
            "SVM Classification Report:\n",
            "              precision    recall  f1-score   support\n",
            "\n",
            "      action       0.43      0.30      0.35       398\n",
            "       adult       0.71      0.42      0.52       156\n",
            "   adventure       0.47      0.23      0.31       220\n",
            "   animation       0.58      0.15      0.24       146\n",
            "   biography       0.00      0.00      0.00        88\n",
            "      comedy       0.52      0.59      0.55      2215\n",
            "       crime       0.27      0.04      0.06       164\n",
            " documentary       0.67      0.83      0.74      3942\n",
            "       drama       0.54      0.76      0.63      4076\n",
            "      family       0.44      0.12      0.19       218\n",
            "     fantasy       0.46      0.06      0.10       103\n",
            "   game-show       0.93      0.49      0.64        55\n",
            "     history       0.00      0.00      0.00        73\n",
            "      horror       0.65      0.58      0.62       626\n",
            "       music       0.68      0.51      0.58       217\n",
            "     musical       0.56      0.06      0.12        77\n",
            "     mystery       0.00      0.00      0.00        90\n",
            "        news       0.25      0.02      0.04        48\n",
            "  reality-tv       0.49      0.23      0.32       269\n",
            "     romance       0.00      0.00      0.00       225\n",
            "      sci-fi       0.55      0.34      0.42       215\n",
            "       short       0.49      0.30      0.37      1577\n",
            "       sport       0.73      0.32      0.45       140\n",
            "   talk-show       0.57      0.20      0.30       122\n",
            "    thriller       0.37      0.13      0.20       463\n",
            "         war       1.00      0.02      0.05        41\n",
            "     western       0.91      0.76      0.83       301\n",
            "\n",
            "    accuracy                           0.58     16265\n",
            "   macro avg       0.49      0.28      0.32     16265\n",
            "weighted avg       0.55      0.58      0.55     16265\n",
            "\n"
          ]
        },
        {
          "output_type": "stream",
          "name": "stderr",
          "text": [
            "/usr/local/lib/python3.10/dist-packages/sklearn/metrics/_classification.py:1344: UndefinedMetricWarning: Precision and F-score are ill-defined and being set to 0.0 in labels with no predicted samples. Use `zero_division` parameter to control this behavior.\n",
            "  _warn_prf(average, modifier, msg_start, len(result))\n"
          ]
        }
      ]
    },
    {
      "cell_type": "markdown",
      "source": [
        "4. Logistic Regression"
      ],
      "metadata": {
        "id": "hR7tlHBbk8Zy"
      }
    },
    {
      "cell_type": "code",
      "source": [
        "from sklearn.linear_model import LogisticRegression\n",
        "from sklearn.feature_extraction.text import TfidfVectorizer\n",
        "from sklearn.metrics import accuracy_score, classification_report\n",
        "from sklearn.model_selection import train_test_split\n",
        "\n",
        "# Assuming you have X and y as your features and target variable\n",
        "# Split your data into training and testing sets\n",
        "X_train, X_test, y_train, y_test = train_test_split(df['Description'], df['Genre'], test_size=0.2, random_state=42)\n",
        "\n",
        "# Create a TF-IDF vectorizer\n",
        "tfidf_vectorizer = TfidfVectorizer()\n",
        "\n",
        "# Transform the text data into numerical vectors\n",
        "X_train_tfidf = tfidf_vectorizer.fit_transform(X_train)\n",
        "X_test_tfidf = tfidf_vectorizer.transform(X_test)\n",
        "\n",
        "# Initialize the Logistic Regression model\n",
        "lr_model = LogisticRegression(max_iter=1000)\n",
        "\n",
        "# Train the model\n",
        "lr_model.fit(X_train_tfidf, y_train)\n",
        "\n",
        "# Predictions\n",
        "y_pred = lr_model.predict(X_test_tfidf)\n",
        "\n",
        "# Evaluation\n",
        "lr_accuracy = accuracy_score(y_test, y_pred)\n",
        "print(f\"Accuracy: {lr_accuracy}\")\n",
        "print(f\"Classification Report:\\n{classification_report(y_test, y_pred)}\")\n"
      ],
      "metadata": {
        "colab": {
          "base_uri": "https://localhost:8080/"
        },
        "id": "w_bAqVmUIr7i",
        "outputId": "d2fa212d-2959-4ec8-9d7a-fc72204a15de"
      },
      "execution_count": 15,
      "outputs": [
        {
          "output_type": "stream",
          "name": "stdout",
          "text": [
            "Accuracy: 0.582772295490178\n"
          ]
        },
        {
          "output_type": "stream",
          "name": "stderr",
          "text": [
            "/usr/local/lib/python3.10/dist-packages/sklearn/metrics/_classification.py:1344: UndefinedMetricWarning: Precision and F-score are ill-defined and being set to 0.0 in labels with no predicted samples. Use `zero_division` parameter to control this behavior.\n",
            "  _warn_prf(average, modifier, msg_start, len(result))\n"
          ]
        },
        {
          "output_type": "stream",
          "name": "stdout",
          "text": [
            "Classification Report:\n",
            "              precision    recall  f1-score   support\n",
            "\n",
            "      action       0.55      0.25      0.35       263\n",
            "       adult       0.81      0.20      0.32       112\n",
            "   adventure       0.46      0.12      0.19       139\n",
            "   animation       0.80      0.04      0.07       104\n",
            "   biography       0.00      0.00      0.00        61\n",
            "      comedy       0.52      0.59      0.55      1443\n",
            "       crime       0.40      0.02      0.04       107\n",
            " documentary       0.66      0.86      0.75      2659\n",
            "       drama       0.53      0.80      0.64      2697\n",
            "      family       0.50      0.07      0.12       150\n",
            "     fantasy       0.00      0.00      0.00        74\n",
            "   game-show       0.93      0.35      0.51        40\n",
            "     history       0.00      0.00      0.00        45\n",
            "      horror       0.67      0.57      0.62       431\n",
            "       music       0.69      0.42      0.52       144\n",
            "     musical       0.00      0.00      0.00        50\n",
            "     mystery       0.00      0.00      0.00        56\n",
            "        news       0.00      0.00      0.00        34\n",
            "  reality-tv       0.47      0.13      0.20       192\n",
            "     romance       0.00      0.00      0.00       151\n",
            "      sci-fi       0.57      0.20      0.29       143\n",
            "       short       0.51      0.30      0.38      1045\n",
            "       sport       0.74      0.18      0.29        93\n",
            "   talk-show       0.71      0.15      0.24        81\n",
            "    thriller       0.41      0.12      0.19       309\n",
            "         war       0.00      0.00      0.00        20\n",
            "     western       0.96      0.70      0.81       200\n",
            "\n",
            "    accuracy                           0.58     10843\n",
            "   macro avg       0.44      0.22      0.26     10843\n",
            "weighted avg       0.56      0.58      0.53     10843\n",
            "\n"
          ]
        },
        {
          "output_type": "stream",
          "name": "stderr",
          "text": [
            "/usr/local/lib/python3.10/dist-packages/sklearn/metrics/_classification.py:1344: UndefinedMetricWarning: Precision and F-score are ill-defined and being set to 0.0 in labels with no predicted samples. Use `zero_division` parameter to control this behavior.\n",
            "  _warn_prf(average, modifier, msg_start, len(result))\n",
            "/usr/local/lib/python3.10/dist-packages/sklearn/metrics/_classification.py:1344: UndefinedMetricWarning: Precision and F-score are ill-defined and being set to 0.0 in labels with no predicted samples. Use `zero_division` parameter to control this behavior.\n",
            "  _warn_prf(average, modifier, msg_start, len(result))\n"
          ]
        }
      ]
    },
    {
      "cell_type": "markdown",
      "source": [
        "Comapre models Accuracies"
      ],
      "metadata": {
        "id": "dL8s7q4GlANW"
      }
    },
    {
      "cell_type": "code",
      "source": [
        "# Creating a DataFrame for comparison\n",
        "import pandas as pd\n",
        "\n",
        "model_comparison = pd.DataFrame({\n",
        "    'Model': ['Logistic Regression', 'Random Forest', 'SVM','Multinomial naive bayes'],\n",
        "    'Accuracy': [lr_accuracy, rf_accuracy, svm_accuracy, mnb_accuracy]\n",
        "})\n",
        "\n",
        "print(model_comparison)"
      ],
      "metadata": {
        "colab": {
          "base_uri": "https://localhost:8080/"
        },
        "id": "tR6OPiUlUecU",
        "outputId": "6d3e19c7-2627-4b86-98f4-df199a2b26f1"
      },
      "execution_count": 17,
      "outputs": [
        {
          "output_type": "stream",
          "name": "stdout",
          "text": [
            "                     Model  Accuracy\n",
            "0      Logistic Regression  0.582772\n",
            "1            Random Forest  0.492591\n",
            "2                      SVM  0.582539\n",
            "3  Multinomial naive bayes  0.515032\n"
          ]
        }
      ]
    },
    {
      "cell_type": "markdown",
      "source": [
        "In this movie genre prediction analysis, Logistic Regression leads with the highest accuracy of 58.28% after applying preprocessing techniques like stemming, lemmatization, and removing stopwords. Support Vector Machine (SVM) closely follows at 58.25%. Random Forest lags behind with 49.26%, and Multinomial Naive Bayes achieves 51.50%. These results highlight the impact of preprocessing on model performance, with Logistic Regression and SVM emerging as the most effective models."
      ],
      "metadata": {
        "id": "upspqu5YjsDV"
      }
    }
  ]
}