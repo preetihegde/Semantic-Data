{
 "cells": [
  {
   "cell_type": "markdown",
   "id": "34bf07b0",
   "metadata": {},
   "source": [
    "### Generating Instagram Captions using Markovify Library\n",
    "\n",
    "Teammates : <ul>\n",
    "   <li> Dyuthi Nagaraja Kedilaya,</li>\n",
    "   <li> Gurudeep Haleangadi Nagesh,</li>\n",
    "   <li> Preeti Venakataraman Hegde,</li>\n",
    "   <li> Ranjitha Umesh</li>\n",
    "</ul>"
   ]
  },
  {
   "cell_type": "code",
   "execution_count": 1,
   "id": "77a5f22a",
   "metadata": {
    "scrolled": true
   },
   "outputs": [
    {
     "name": "stdout",
     "output_type": "stream",
     "text": [
      "Requirement already satisfied: markovify in c:\\users\\preeti v hegde\\anaconda\\lib\\site-packages (0.9.4)\n",
      "Requirement already satisfied: unidecode in c:\\users\\preeti v hegde\\anaconda\\lib\\site-packages (from markovify) (1.2.0)\n",
      "Note: you may need to restart the kernel to use updated packages.\n"
     ]
    }
   ],
   "source": [
    "pip install markovify"
   ]
  },
  {
   "cell_type": "code",
   "execution_count": 13,
   "id": "6d2f1cfe",
   "metadata": {
    "scrolled": true
   },
   "outputs": [
    {
     "name": "stdout",
     "output_type": "stream",
     "text": [
      "\n",
      "A year wiser 🤓 Go shawty, it’s my birthday … oh wait, it is!🛳\n",
      "#year #wiser #🤓 #go #shawty, #it’s #birthday #… #oh #wait, #is!🛳 \n"
     ]
    }
   ],
   "source": [
    "import markovify\n",
    "import random\n",
    "\n",
    "# Get raw text as string.\n",
    "with open(\"Captions.txt\", \"r\", encoding=\"utf-8\") as f:\n",
    "    text = f.read()\n",
    "\n",
    "# Build the model.\n",
    "model_captions = markovify.Text(text)\n",
    "captions = \"\"\n",
    "captions = model_captions.make_short_sentence(100, tries=10)\n",
    "\n",
    "with open(\"emoji.txt\", \"r\", encoding=\"utf-8\") as file:\n",
    "    emoji_data = [line.strip() for line in file]\n",
    "\n",
    "emojis = \"\"\n",
    "hashtags = \"\"\n",
    "hashtag = \"\"\n",
    "for _ in range(1):\n",
    "    emoji = random.choice(emoji_data)\n",
    "    if emoji:\n",
    "        emojis += emoji\n",
    "    captions += emojis\n",
    "list_words = [\"about\",\"above\",\"across\",\"i\",\"we\",\"it\",\"they\",\"i'm\",\"my\",\"after\",\"here\",\"it\",\"is\",\"these\",\"in\",\"when\",\"what\",\"how\",\"why\",\"against\",\"along\",\"among\",\"around\",\"at\",\"where\",\"you’ve\",\"and\",\"a\",\"before\",\"behind\",\"between\",\"beyond\",\"but\",\"by\",\"concerning\",\"despite\",\"down\",\"during\",\"except\",\"following\",\"for\",\"from\",\"in\",\"was\",\"there\",\"this\",\"that\",\"including\",\"into\",\"like\",\"near\",\"of\",\"off\",\"on\",\"onto\",\"out\",\"over\",\"past\",\"plus\",\"since\",\"throughout\",\"to\",\"towards\",\"under\",\"until\",\"up\",\"upon\",\"up to\",\"with\",\"within\",\"without\"]\n",
    "words = captions.split()\n",
    "if len(words) > 0 :\n",
    "    for i in range (len(words)):\n",
    "        word = words[i].lower()\n",
    "        if word not in list_words:\n",
    "            hashtag = f\"#{word}\"\n",
    "            hashtags += hashtag + \" \"\n",
    "    final_caption = captions + \"\\n\" +hashtags\n",
    "    print(\"\\n\" + final_caption)\n",
    "else:\n",
    "    print(\"\\n\" + captions)"
   ]
  },
  {
   "cell_type": "raw",
   "id": "358527ab",
   "metadata": {},
   "source": [
    "<br>References used for Creating DataSet\n",
    "<ul>\n",
    "<li> https://www.oberlo.com/blog/instagram-captions</li>\n",
    "<li> https://later.com/instagram-captions-ideas/mood-instagram-captions/</li>\n",
    "<li> https://getemoji.com/assets/#smileys</li>\n",
    "<li> https://mention.com/en/blog/best-instagram-hashtags/</li>\n",
    "</ul>"
   ]
  },
  {
   "cell_type": "code",
   "execution_count": null,
   "id": "1a6a32a7",
   "metadata": {},
   "outputs": [],
   "source": []
  }
 ],
 "metadata": {
  "kernelspec": {
   "display_name": "Python 3 (ipykernel)",
   "language": "python",
   "name": "python3"
  },
  "language_info": {
   "codemirror_mode": {
    "name": "ipython",
    "version": 3
   },
   "file_extension": ".py",
   "mimetype": "text/x-python",
   "name": "python",
   "nbconvert_exporter": "python",
   "pygments_lexer": "ipython3",
   "version": "3.10.9"
  }
 },
 "nbformat": 4,
 "nbformat_minor": 5
}
